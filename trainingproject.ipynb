{
  "nbformat": 4,
  "nbformat_minor": 0,
  "metadata": {
    "colab": {
      "provenance": [],
      "authorship_tag": "ABX9TyObJ4YxgF1R/AUHVL4pnMA3",
      "include_colab_link": true
    },
    "kernelspec": {
      "name": "python3",
      "display_name": "Python 3"
    },
    "language_info": {
      "name": "python"
    }
  },
  "cells": [
    {
      "cell_type": "markdown",
      "metadata": {
        "id": "view-in-github",
        "colab_type": "text"
      },
      "source": [
        "<a href=\"https://colab.research.google.com/github/Ilapuramkruthikasaisree/projects/blob/main/trainingproject.ipynb\" target=\"_parent\"><img src=\"https://colab.research.google.com/assets/colab-badge.svg\" alt=\"Open In Colab\"/></a>"
      ]
    },
    {
      "cell_type": "markdown",
      "source": [
        "Dataset Information\n",
        "Additional Information\n",
        "The dataset consists of feature vectors belonging to 12,330 sessions. The dataset was formed so that each session would belong to a different user in a 1-year period to avoid any tendency to a specific campaign, special day, user profile, or period.\n",
        "Additional Variable Information\n",
        "The dataset consists of 10 numerical and 8 categorical attributes.\n",
        "\"Administrative\", \"Administrative Duration\", \"Informational\", \"Informational Duration\", \"Product Related\" and \"Product Related Duration\" represent the number of different types of pages visited by the visitor in that session and total time spent in each of these page categories.\n",
        "The values of these features are derived from the URL information of the pages visited by the user and updated in real time when a user takes an action, e.g. moving from one page to another.\n",
        "The \"Bounce Rate\", \"Exit Rate\" and \"Page Value\" features represent the metrics measured by \"Google Analytics\" for each page in the e-commerce site.\n",
        "The value of \"Bounce Rate\" feature for a web page refers to the percentage of visitors who enter the site from that page and then leave (\"bounce\") without triggering any other requests to the analytics server during that session.\n",
        " The value of \"Exit Rate\" feature for a specific web page is calculated as for all pageviews to the page, the percentage that were the last in the session.\n",
        "The \"Page Value\" feature represents the average value for a web page that a user visited before completing an e-commerce transaction.\n",
        "The \"Special Day\" feature indicates the closeness of the site visiting time to a specific special day (e.g. Mother’s Day, Valentine's Day) in which the sessions are more likely to be finalized with transaction.\n",
        "The value of this attribute is determined by considering the dynamics of e-commerce such as the duration between the order date and delivery date.\n",
        "For example, for Valentina’s day, this value takes a nonzero value between February 2 and February 12, zero before and after this date unless it is close to another special day, and its maximum value of 1 on February 8.\n",
        "The dataset also includes operating system, browser, region, traffic type, visitor type as returning or new visitor, a Boolean value indicating whether the date of the visit is weekend, and month of the year.\n",
        "Apply the cluster analysis on the above dataset to understand which customers are gives revenue and non-revenue\n",
        "Dataset Overview:\n",
        "Total Rows: 12,330\n",
        "Total Columns: 17\n",
        "Data Types:\n",
        "Integer (7 columns)\n",
        "Float (7 columns)\n",
        "Object (2 columns)\n",
        "Boolean (1 column)\n",
        "Variable Descriptions:\n",
        "Administrative (int64) - Number of pages visited related to administrative tasks.\n",
        "Administrative_Duration (float64) - Total time spent on administrative pages.\n",
        "Informational (int64) - Number of pages visited related to informational content.\n",
        "Informational_Duration (float64) - Total time spent on informational pages.\n",
        "ProductRelated (int64) - Number of pages visited related to products.\n",
        "ProductRelated_Duration (float64) - Total time spent on product-related pages.\n",
        "BounceRates (float64) - The percentage of visitors who enter the site and leave without further interaction.\n",
        "ExitRates (float64) - The percentage of visitors who leave the site after viewing a specific page.\n",
        "PageValues (float64) - A calculated metric representing the economic value of a page before a transaction.\n",
        "SpecialDay (float64) - Indicates proximity to a special shopping day (e.g., Black Friday), ranging from 0 to 1.\n",
        "Month (object) - The month in which the visit occurred (e.g., 'Feb', 'Mar').\n",
        "OperatingSystems (int64) - Encoded categorical variable representing different operating systems.\n",
        "Browser (int64) - Encoded categorical variable representing different web browsers.\n",
        "Region (int64) - Encoded categorical variable representing different regions.\n",
        "TrafficType (int64) - Encoded categorical variable representing different types of web traffic sources.\n",
        "VisitorType (object) - Categorical variable indicating whether the visitor is a \"Returning_Visitor\" or \"New_Visitor.\"\n",
        "Weekend (bool) - Boolean variable (True/False) indicating whether the visit occurred on a weekend.\n"
      ],
      "metadata": {
        "id": "9oy3Oi56QRTb"
      }
    },
    {
      "cell_type": "code",
      "source": [],
      "metadata": {
        "id": "E8wHuPPmQycu"
      },
      "execution_count": null,
      "outputs": []
    }
  ]
}